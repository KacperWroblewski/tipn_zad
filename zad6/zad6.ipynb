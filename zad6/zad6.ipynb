{
 "cells": [
  {
   "cell_type": "code",
   "execution_count": 1,
   "metadata": {},
   "outputs": [],
   "source": [
    "a = 'Czy po powrocie do domu z uczelni/pracy od razu kładziesz się spać?'\n",
    "b = 'Czy wolisz siedzieć przed telewizorem niż iść pobiegać?'\n",
    "c = 'Czy wolisz, żeby ktoś zrobił coś za ciebie, żebyś mógł/mogła odpoczywać?'\n",
    "d = 'Czy robisz wszystko na ostatni moment?'\n",
    "e = 'Czy wolisz zamówić jedzenie, niż sam/sama coś ugotować?'"
   ]
  },
  {
   "cell_type": "code",
   "execution_count": 2,
   "metadata": {},
   "outputs": [],
   "source": [
    "punkty = []"
   ]
  },
  {
   "cell_type": "code",
   "execution_count": 3,
   "metadata": {},
   "outputs": [],
   "source": [
    "def test(os):\n",
    "    lista = [a, b, c, d, e]\n",
    "    \n",
    "def zadaj_pytanie(a):  \n",
    "    print(a)\n",
    "    ax = input(\"1 - zupełnie się nie zgadzam; 2 - nie zgadzam się; 3 - czasem tak, czasem nie; 4 - zgadzam się; 5 - zupełnie się zgadzam: \")\n",
    "    ax = int(ax)\n",
    "    if ax > 5 or ax < 1:\n",
    "        print(\"Nie ma takiej odpowiedzi.\")\n",
    "    else:\n",
    "        return ax"
   ]
  },
  {
   "cell_type": "code",
   "execution_count": 4,
   "metadata": {},
   "outputs": [
    {
     "name": "stdout",
     "output_type": "stream",
     "text": [
      "Czy po powrocie do domu z uczelni/pracy od razu kładziesz się spać?\n"
     ]
    },
    {
     "name": "stdin",
     "output_type": "stream",
     "text": [
      "1 - zupełnie się nie zgadzam; 2 - nie zgadzam się; 3 - czasem tak, czasem nie; 4 - zgadzam się; 5 - zupełnie się zgadzam:  1\n"
     ]
    },
    {
     "name": "stdout",
     "output_type": "stream",
     "text": [
      "Czy wolisz siedzieć przed telewizorem niż iść pobiegać?\n"
     ]
    },
    {
     "name": "stdin",
     "output_type": "stream",
     "text": [
      "1 - zupełnie się nie zgadzam; 2 - nie zgadzam się; 3 - czasem tak, czasem nie; 4 - zgadzam się; 5 - zupełnie się zgadzam:  3\n"
     ]
    },
    {
     "name": "stdout",
     "output_type": "stream",
     "text": [
      "Czy wolisz, żeby ktoś zrobił coś za ciebie, żebyś mógł/mogła odpoczywać?\n"
     ]
    },
    {
     "name": "stdin",
     "output_type": "stream",
     "text": [
      "1 - zupełnie się nie zgadzam; 2 - nie zgadzam się; 3 - czasem tak, czasem nie; 4 - zgadzam się; 5 - zupełnie się zgadzam:  2\n"
     ]
    },
    {
     "name": "stdout",
     "output_type": "stream",
     "text": [
      "Czy robisz wszystko na ostatni moment?\n"
     ]
    },
    {
     "name": "stdin",
     "output_type": "stream",
     "text": [
      "1 - zupełnie się nie zgadzam; 2 - nie zgadzam się; 3 - czasem tak, czasem nie; 4 - zgadzam się; 5 - zupełnie się zgadzam:  3\n"
     ]
    },
    {
     "name": "stdout",
     "output_type": "stream",
     "text": [
      "Czy wolisz zamówić jedzenie, niż sam/sama coś ugotować?\n"
     ]
    },
    {
     "name": "stdin",
     "output_type": "stream",
     "text": [
      "1 - zupełnie się nie zgadzam; 2 - nie zgadzam się; 3 - czasem tak, czasem nie; 4 - zgadzam się; 5 - zupełnie się zgadzam:  2\n"
     ]
    },
    {
     "name": "stdout",
     "output_type": "stream",
     "text": [
      "Twój wynik to: 11 . Z reguły nie lubisz siedzieć w miejscu, ale czasem fajnie trochę poleniuchować.\n"
     ]
    }
   ],
   "source": [
    "pkt = zadaj_pytanie(a)\n",
    "punkty.append(pkt)\n",
    "\n",
    "pkt = zadaj_pytanie(b)\n",
    "punkty.append(pkt)\n",
    "\n",
    "pkt = zadaj_pytanie(c)\n",
    "punkty.append(pkt)\n",
    "\n",
    "pkt = zadaj_pytanie(d)\n",
    "punkty.append(pkt)\n",
    "\n",
    "pkt = zadaj_pytanie(e)\n",
    "punkty.append(pkt)\n",
    "\n",
    "wynik = sum(punkty)\n",
    "wynik = int(wynik)\n",
    "\n",
    "if wynik >= 5 and wynik <= 10:\n",
    "    print('Twój wynik to:', wynik, '.', 'Jesteś aktywny/a i pracowity/a. Takie osoby więcej osiągają.')\n",
    "\n",
    "elif wynik > 10 and wynik <= 15:\n",
    "    print('Twój wynik to:', wynik, '.', 'Z reguły nie lubisz siedzieć w miejscu, ale czasem fajnie trochę poleniuchować.')\n",
    "    \n",
    "elif wynik > 15 and wynik <= 20:\n",
    "    print('Twój wynik to:', wynik, '.', 'Wolisz spędzać czas pasywnie, i nie lubisz się wysilać.')\n",
    "    \n",
    "elif wynik > 20 and wynik <= 25:\n",
    "    print('Twój wynik to:', wynik, '.', 'Twoje lenistwo sięga szczytu. Weź się za siebie i rusz cztery litery.')"
   ]
  },
  {
   "cell_type": "code",
   "execution_count": null,
   "metadata": {},
   "outputs": [],
   "source": []
  }
 ],
 "metadata": {
  "kernelspec": {
   "display_name": "Python 3",
   "language": "python",
   "name": "python3"
  },
  "language_info": {
   "codemirror_mode": {
    "name": "ipython",
    "version": 3
   },
   "file_extension": ".py",
   "mimetype": "text/x-python",
   "name": "python",
   "nbconvert_exporter": "python",
   "pygments_lexer": "ipython3",
   "version": "3.7.0"
  }
 },
 "nbformat": 4,
 "nbformat_minor": 2
}
